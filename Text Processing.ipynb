{
 "cells": [
  {
   "cell_type": "code",
   "execution_count": 1,
   "id": "45792461-96c0-4a98-b3f0-8c1118bd590f",
   "metadata": {},
   "outputs": [
    {
     "name": "stdout",
     "output_type": "stream",
     "text": [
      "Collecting Sastrawi\n",
      "  Downloading Sastrawi-1.0.1-py2.py3-none-any.whl.metadata (909 bytes)\n",
      "Downloading Sastrawi-1.0.1-py2.py3-none-any.whl (209 kB)\n",
      "Installing collected packages: Sastrawi\n",
      "Successfully installed Sastrawi-1.0.1\n"
     ]
    }
   ],
   "source": [
    "!pip install Sastrawi"
   ]
  },
  {
   "cell_type": "code",
   "execution_count": 3,
   "id": "571d3222-2639-48f0-a5ea-24c2d95b1da1",
   "metadata": {},
   "outputs": [
    {
     "name": "stdout",
     "output_type": "stream",
     "text": [
      "Case Folding : barangnya sesuai harapan, cakep dan mulus. penjualnya juga baik dan ramah. overall, puas banget belanja di sini.\n"
     ]
    }
   ],
   "source": [
    "dokumen1=\"Barangnya sesuai harapan, cakep dan mulus. Penjualnya juga baik dan ramah. Overall, puas banget belanja di sini.\"\n",
    "#Case Folding\n",
    "hasil_cf = str.lower(dokumen1)\n",
    "print(\"Case Folding : \"+hasil_cf);"
   ]
  },
  {
   "cell_type": "code",
   "execution_count": 9,
   "id": "766f74b2-6013-46b6-b736-768daa91240f",
   "metadata": {},
   "outputs": [
    {
     "name": "stdout",
     "output_type": "stream",
     "text": [
      "Case Folding : barangnya sesuai harapan, cakep dan mulus. penjualnya juga baik dan ramah. overall, puas banget belanja di sini.\n",
      "Token:\n",
      "['barangnya', 'sesuai', 'harapan', 'cakep', 'dan', 'mulus', 'penjualnya', 'juga', 'baik', 'dan', 'ramah', 'overall', 'puas', 'banget', 'belanja', 'di', 'sini']\n"
     ]
    }
   ],
   "source": [
    "dokumen1=\"Barangnya sesuai harapan, cakep dan mulus. Penjualnya juga baik dan ramah. Overall, puas banget belanja di sini.\"\n",
    "#Case Folding\n",
    "hasil_cf = str.lower(dokumen1)\n",
    "print(\"Case Folding : \"+hasil_cf);\n",
    "\n",
    "#Tokenizing\n",
    "from nltk.tokenize import RegexpTokenizer\n",
    "tokenizer     = RegexpTokenizer(r'\\w+')\n",
    "hasil_token   = tokenizer.tokenize(hasil_cf)\n",
    "print(\"Token:\")\n",
    "print(hasil_token)\n",
    "\n"
   ]
  },
  {
   "cell_type": "code",
   "execution_count": 13,
   "id": "2dc80c81-d713-42bf-bf20-ec558089befb",
   "metadata": {},
   "outputs": [
    {
     "name": "stdout",
     "output_type": "stream",
     "text": [
      "Case Folding : barangnya sesuai harapan, cakep dan mulus. penjualnya juga baik dan ramah. overall, puas banget belanja di sini.\n",
      "Token\n",
      "['barangnya', 'sesuai', 'harapan', 'cakep', 'dan', 'mulus', 'penjualnya', 'juga', 'baik', 'dan', 'ramah', 'overall', 'puas', 'banget', 'belanja', 'di', 'sini']\n",
      "Hasil Stemming:\n",
      "barang sesuai harap cakep dan mulus jual juga baik dan ramah overall puas banget belanja di sini\n"
     ]
    }
   ],
   "source": [
    "dokumen1=\"Barangnya sesuai harapan, cakep dan mulus. Penjualnya juga baik dan ramah. Overall, puas banget belanja di sini.\"\n",
    "#Case Folding\n",
    "hasil_cf = str.lower(dokumen1)\n",
    "print(\"Case Folding : \"+hasil_cf);\n",
    "\n",
    "#Tokenizing\n",
    "from nltk.tokenize import RegexpTokenizer\n",
    "tokenizer     = RegexpTokenizer(r'\\w+')\n",
    "hasil_token   = tokenizer.tokenize(hasil_cf)\n",
    "print(\"Token\")\n",
    "print(hasil_token)\n",
    "\n",
    "#Stemming\n",
    "from Sastrawi.Stemmer.StemmerFactory import StemmerFactory\n",
    "factory       = StemmerFactory()\n",
    "stemmer       = factory.create_stemmer()\n",
    "input_stemm   = str(hasil_token)\n",
    "hasil_stemm   = stemmer.stem(input_stemm)\n",
    "print(\"Hasil Stemming:\")\n",
    "print (hasil_stemm)\n",
    "\n",
    "\n",
    "      "
   ]
  },
  {
   "cell_type": "code",
   "execution_count": 15,
   "id": "c03994c1-1bf3-466b-ba44-e7569026cae1",
   "metadata": {},
   "outputs": [
    {
     "name": "stdout",
     "output_type": "stream",
     "text": [
      "Dokumen: Barangnya sesuai harapan, cakep dan mulus. Penjualnya juga baik dan ramah. Overall, puss banget belanja di sini.\n",
      "Case Folding : barangnya sesuai harapan, cakep dan mulus. penjualnya juga baik dan ramah. overall, puss banget belanja di sini.\n",
      "Token:\n",
      "['barangnya', 'sesuai', 'harapan', 'cakep', 'dan', 'mulus', 'penjualnya', 'juga', 'baik', 'dan', 'ramah', 'overall', 'puss', 'banget', 'belanja', 'di', 'sini']\n",
      "Hasil Stemming:\n",
      "barang sesuai harap cakep dan mulus jual juga baik dan ramah overall puss banget belanja di sini\n",
      "Hasil Setelah Stopword Removal:\n",
      "['barang', 'sesuai', 'harap', 'cakep', 'mulus', 'jual', 'baik', 'ramah', 'overall', 'puss', 'banget', 'belanja', 'sini']\n"
     ]
    }
   ],
   "source": [
    "dokumen1=\"Barangnya sesuai harapan, cakep dan mulus. Penjualnya juga baik dan ramah. Overall, puss banget belanja di sini.\"  \n",
    "print(\"Dokumen: \"+dokumen1)  \n",
    "#Case Folding  \n",
    "hasil_cf = str.lower(dokumen1)  \n",
    "print(\"Case Folding : \"+hasil_cf);  \n",
    "\n",
    "#Tokenizing  \n",
    "from nltk.tokenize import RegexpTokenizer  \n",
    "tokenizer = RegexpTokenizer(r'\\w+')  \n",
    "hasil_token = tokenizer.tokenize(hasil_cf)  \n",
    "print(\"Token:\")  \n",
    "print(hasil_token)  \n",
    "\n",
    "# Stemming  \n",
    "from Sastrawi.Stemmer.StemmerFactory import StemmerFactory  \n",
    "factory = StemmerFactory()  \n",
    "stemmer = factory.create_stemmer()  \n",
    "input_stem = str(hasil_token)  \n",
    "hasil_stem = stemmer.stem(input_stem)  \n",
    "print(\"Hasil Stemming:\")  \n",
    "print(hasil_stem)  \n",
    "\n",
    "# Filtering  \n",
    "# Tokenisasi ulang hasil stemming  \n",
    "token_stem = tokenizer.tokenize(hasil_stem)  \n",
    "\n",
    "# Ambil daftar stopwords  \n",
    "from Sastrawi.StopWordRemover.StopWordRemoverFactory import StopWordRemoverFactory  \n",
    "stop_factory = StopWordRemoverFactory()  \n",
    "stopwords = stop_factory.get_stop_words()  \n",
    "\n",
    "# Hapus stopwords dari hasil stemming  \n",
    "hasil_final = [word for word in token_stem if word not in stopwords]  \n",
    "print(\"Hasil Setelah Stopword Removal:\")  \n",
    "print(hasil_final) "
   ]
  },
  {
   "cell_type": "code",
   "execution_count": 6,
   "id": "ac49ffc9-4c6e-47aa-a4d7-8d21e1010a6d",
   "metadata": {},
   "outputs": [
    {
     "name": "stdout",
     "output_type": "stream",
     "text": [
      "Dokumen: Sesuai pesanan. Sayangnya pengiriman agak telat.\n",
      "Case Folding : sesuai pesanan. sayangnya pengiriman agak telat.\n",
      "Token:\n",
      "['sesuai', 'pesanan', 'sayangnya', 'pengiriman', 'agak', 'telat']\n",
      "Hasil Stemming:\n",
      "sesuai pesan sayang kirim agak telat\n",
      "Hasil Setelah Stopword Removal:\n",
      "['sesuai', 'pesan', 'sayang', 'kirim', 'telat']\n"
     ]
    }
   ],
   "source": [
    "dokumen2=\"Sesuai pesanan. Sayangnya pengiriman agak telat.\" \n",
    "print(\"Dokumen: \"+dokumen2)  \n",
    "#Case Folding  \n",
    "hasil_cf = str.lower(dokumen2)  \n",
    "print(\"Case Folding : \"+hasil_cf);  \n",
    "\n",
    "#Tokenizing  \n",
    "from nltk.tokenize import RegexpTokenizer  \n",
    "tokenizer = RegexpTokenizer(r'\\w+')  \n",
    "hasil_token = tokenizer.tokenize(hasil_cf)  \n",
    "print(\"Token:\")  \n",
    "print(hasil_token)  \n",
    "\n",
    "# Stemming  \n",
    "from Sastrawi.Stemmer.StemmerFactory import StemmerFactory  \n",
    "factory = StemmerFactory()  \n",
    "stemmer = factory.create_stemmer()  \n",
    "input_stem = str(hasil_token)  \n",
    "hasil_stem = stemmer.stem(input_stem)  \n",
    "print(\"Hasil Stemming:\")  \n",
    "print(hasil_stem)  \n",
    "\n",
    "# Filtering  \n",
    "# Tokenisasi ulang hasil stemming  \n",
    "token_stem = tokenizer.tokenize(hasil_stem)  \n",
    "\n",
    "# Ambil daftar stopwords  \n",
    "from Sastrawi.StopWordRemover.StopWordRemoverFactory import StopWordRemoverFactory  \n",
    "stop_factory = StopWordRemoverFactory()  \n",
    "stopwords = stop_factory.get_stop_words()  \n",
    "\n",
    "# Hapus stopwords dari hasil stemming  \n",
    "hasil_final = [word for word in token_stem if word not in stopwords]  \n",
    "print(\"Hasil Setelah Stopword Removal:\")  \n",
    "print(hasil_final) \n"
   ]
  },
  {
   "cell_type": "code",
   "execution_count": 8,
   "id": "f2c6e021-43cd-4690-b42d-c5178b4a0dd8",
   "metadata": {},
   "outputs": [
    {
     "name": "stdout",
     "output_type": "stream",
     "text": [
      "Dokumen: Puas banget belanja di sini. Barang ok dan harga juga sesuai kantong. Sip deh.\n",
      "Case Folding : puas banget belanja di sini. barang ok dan harga juga sesuai kantong. sip deh.\n",
      "Token:\n",
      "['puas', 'banget', 'belanja', 'di', 'sini', 'barang', 'ok', 'dan', 'harga', 'juga', 'sesuai', 'kantong', 'sip', 'deh']\n",
      "Hasil Stemming:\n",
      "puas banget belanja di sini barang ok dan harga juga sesuai kantong sip deh\n",
      "Hasil Setelah Stopword Removal:\n",
      "['puas', 'banget', 'belanja', 'sini', 'barang', 'harga', 'sesuai', 'kantong', 'sip', 'deh']\n"
     ]
    }
   ],
   "source": [
    "dokumen3=\"Puas banget belanja di sini. Barang ok dan harga juga sesuai kantong. Sip deh.\"\n",
    "print(\"Dokumen: \"+dokumen3)  \n",
    "#Case Folding  \n",
    "hasil_cf = str.lower(dokumen3)  \n",
    "print(\"Case Folding : \"+hasil_cf);  \n",
    "\n",
    "#Tokenizing  \n",
    "from nltk.tokenize import RegexpTokenizer  \n",
    "tokenizer = RegexpTokenizer(r'\\w+')  \n",
    "hasil_token = tokenizer.tokenize(hasil_cf)  \n",
    "print(\"Token:\")  \n",
    "print(hasil_token)  \n",
    "\n",
    "# Stemming  \n",
    "from Sastrawi.Stemmer.StemmerFactory import StemmerFactory  \n",
    "factory = StemmerFactory()  \n",
    "stemmer = factory.create_stemmer()  \n",
    "input_stem = str(hasil_token)  \n",
    "hasil_stem = stemmer.stem(input_stem)  \n",
    "print(\"Hasil Stemming:\")  \n",
    "print(hasil_stem)  \n",
    "\n",
    "# Filtering  \n",
    "# Tokenisasi ulang hasil stemming  \n",
    "token_stem = tokenizer.tokenize(hasil_stem)  \n",
    "\n",
    "# Ambil daftar stopwords  \n",
    "from Sastrawi.StopWordRemover.StopWordRemoverFactory import StopWordRemoverFactory  \n",
    "stop_factory = StopWordRemoverFactory()  \n",
    "stopwords = stop_factory.get_stop_words()  \n",
    "\n",
    "# Hapus stopwords dari hasil stemming  \n",
    "hasil_final = [word for word in token_stem if word not in stopwords]  \n",
    "print(\"Hasil Setelah Stopword Removal:\")  \n",
    "print(hasil_final) "
   ]
  },
  {
   "cell_type": "code",
   "execution_count": null,
   "id": "34152a5e-b620-4510-99a9-4f57d8da447e",
   "metadata": {},
   "outputs": [],
   "source": []
  },
  {
   "cell_type": "code",
   "execution_count": null,
   "id": "24bc0536-a816-459e-87d0-31b3d60a517e",
   "metadata": {},
   "outputs": [],
   "source": []
  }
 ],
 "metadata": {
  "kernelspec": {
   "display_name": "Python [conda env:base] *",
   "language": "python",
   "name": "conda-base-py"
  },
  "language_info": {
   "codemirror_mode": {
    "name": "ipython",
    "version": 3
   },
   "file_extension": ".py",
   "mimetype": "text/x-python",
   "name": "python",
   "nbconvert_exporter": "python",
   "pygments_lexer": "ipython3",
   "version": "3.12.7"
  }
 },
 "nbformat": 4,
 "nbformat_minor": 5
}
