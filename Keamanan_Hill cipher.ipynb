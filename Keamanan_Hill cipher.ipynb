{
 "cells": [
  {
   "cell_type": "code",
   "execution_count": 7,
   "id": "87b7dd39-06a7-48f1-99a1-4b0f0497e65a",
   "metadata": {},
   "outputs": [
    {
     "name": "stdout",
     "output_type": "stream",
     "text": [
      "Ciphertext: MOFZ\n"
     ]
    }
   ],
   "source": [
    "import numpy as np\n",
    "\n",
    "# Fungsi untuk mapping huruf ke angka (A=1, B=2, ..., Z=26)\n",
    "def letter_to_number(text):\n",
    "    return [ord(c.upper()) - ord('A') + 1 for c in text if c.isalpha()]\n",
    "\n",
    "# Fungsi untuk mapping angka ke huruf\n",
    "def number_to_letter(numbers):\n",
    "    return ''.join([chr((num - 1) % 26 + ord('A')) for num in numbers])\n",
    "\n",
    "# Fungsi enkripsi Hill Cipher\n",
    "def hill_cipher_encrypt(plaintext, key_matrix):\n",
    "    n = key_matrix.shape[0]\n",
    "\n",
    "    # Convert plaintext to numbers\n",
    "    plaintext_numbers = letter_to_number(plaintext)\n",
    "\n",
    "    # Padding jika tidak habis dibagi n\n",
    "    while len(plaintext_numbers) % n != 0:\n",
    "        plaintext_numbers.append(23)  # misal padding dengan 'W' (23)\n",
    "\n",
    "    # Membagi menjadi blok\n",
    "    blocks = [plaintext_numbers[i:i+n] for i in range(0, len(plaintext_numbers), n)]\n",
    "\n",
    "    cipher_numbers = []\n",
    "\n",
    "    for block in blocks:\n",
    "        block_vector = np.array(block).reshape(n, 1)\n",
    "        # Enkripsi: K * P (mod 26)\n",
    "        cipher_vector = np.dot(key_matrix, block_vector) % 26\n",
    "        # Sesuai aturan A=1, B=2, ..., Z=26 (jadi kalau 0 jadi 26)\n",
    "        cipher_vector = [(num if num != 0 else 26) for num in cipher_vector.flatten()]\n",
    "        cipher_numbers.extend(cipher_vector)\n",
    "\n",
    "    # Mengubah angka menjadi huruf\n",
    "    ciphertext = number_to_letter(cipher_numbers)\n",
    "    return ciphertext\n",
    "\n",
    "# Contoh penggunaan\n",
    "# Misal kunci: 2x2 matrix\n",
    "key_matrix = np.array([\n",
    "    [3, 3],\n",
    "    [2, 5]\n",
    "])\n",
    "\n",
    "plaintext = \"HELP\"\n",
    "\n",
    "ciphertext = hill_cipher_encrypt(plaintext, key_matrix)\n",
    "print(\"Ciphertext:\", ciphertext) \n"
   ]
  },
  {
   "cell_type": "code",
   "execution_count": null,
   "id": "d4597387-6e02-4f4f-baad-d8edeb4e1063",
   "metadata": {},
   "outputs": [],
   "source": []
  }
 ],
 "metadata": {
  "kernelspec": {
   "display_name": "Python [conda env:base] *",
   "language": "python",
   "name": "conda-base-py"
  },
  "language_info": {
   "codemirror_mode": {
    "name": "ipython",
    "version": 3
   },
   "file_extension": ".py",
   "mimetype": "text/x-python",
   "name": "python",
   "nbconvert_exporter": "python",
   "pygments_lexer": "ipython3",
   "version": "3.12.7"
  }
 },
 "nbformat": 4,
 "nbformat_minor": 5
}
